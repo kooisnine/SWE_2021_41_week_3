{
  "nbformat": 4,
  "nbformat_minor": 0,
  "metadata": {
    "colab": {
      "provenance": []
    },
    "kernelspec": {
      "name": "python3",
      "display_name": "Python 3"
    },
    "language_info": {
      "name": "python"
    }
  },
  "cells": [
    {
      "cell_type": "markdown",
      "source": [
        "## Task\n",
        "- Complete **isHappy** function following the description below\n",
        "\n",
        "### Happy Number\n",
        "Write an algorithm to determine if a number **n** is happy.\n",
        "\n",
        "A **happy number** is a number defined by the following process:\n",
        "\n",
        "* Starting with any positive integer, replace the number by the sum of the squares of its digits.\n",
        "* Repeat the process until the number equals 1 (where it will stay), or it **loops endlessly in a cycle** which does not include 1.\n",
        "* Those numbers for which this process **ends in 1** are happy.\n",
        "\n",
        "Return **true** if n is a happy number, and **false** if not.\n",
        "\n",
        "Constraints:\n",
        "1 <= n <= $2^{31}$ - 1"
      ],
      "metadata": {
        "id": "TV3Socqg8BVl"
      }
    },
    {
      "cell_type": "code",
      "source": [
        "def isHappy(n):\n",
        "\n",
        "  before=0\n",
        "  x=n\n",
        "  i=0\n",
        "  sum=0\n",
        "  Bool=False\n",
        "  sum_arr=[]\n",
        "\n",
        "  while before==0:\n",
        "\n",
        "    while x//10!=0:\n",
        "        i=x%10\n",
        "        sum=sum+(i*i)\n",
        "        x=x//10\n",
        "\n",
        "    sum=sum+(x*x)\n",
        "    for x in sum_arr:\n",
        "      if sum==x:\n",
        "        Bool=True\n",
        "\n",
        "    sum_arr.append(sum)\n",
        "\n",
        "\n",
        "    if Bool==True:\n",
        "      print(\"False\")\n",
        "      before=1\n",
        "      break\n",
        "    elif sum==1:\n",
        "      print(\"True\")\n",
        "      break\n",
        "\n",
        "\n",
        "    else:\n",
        "      x=sum\n",
        "      sum=0\n",
        "\n",
        "  return\n",
        "\n",
        "\n",
        "n = int(input(\"Input: \"))\n",
        "isHappy(n)"
      ],
      "metadata": {
        "colab": {
          "base_uri": "https://localhost:8080/"
        },
        "id": "Js2EOChrfpWm",
        "outputId": "c91ec572-0b54-405a-9073-9005ec435e26"
      },
      "execution_count": 53,
      "outputs": [
        {
          "output_type": "stream",
          "name": "stdout",
          "text": [
            "Input: 338\n",
            "True\n"
          ]
        }
      ]
    },
    {
      "cell_type": "markdown",
      "source": [
        "**Testcase 1.**\n",
        "\n",
        "**Input**: 19\n",
        "\n",
        "**Output**: True\n",
        "\n",
        "**Explanation**:\n",
        "\n",
        "$1^2 + 9^2 = 82$\n",
        "\n",
        "$8^2 + 2^2 = 68$\n",
        "\n",
        "$6^2 + 8^2 = 100$\n",
        "\n",
        "$1^2 + 0^2 + 0^2 = 1$"
      ],
      "metadata": {
        "id": "eRrh24Ognrqf"
      }
    },
    {
      "cell_type": "markdown",
      "source": [
        "**Testcase 2.**\n",
        "\n",
        "**Input**: 2\n",
        "\n",
        "**Output**: False"
      ],
      "metadata": {
        "id": "dE7YMY8qoPoj"
      }
    }
  ]
}